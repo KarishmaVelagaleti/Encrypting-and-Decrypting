{
 "cells": [
  {
   "cell_type": "markdown",
   "metadata": {},
   "source": [
    "<h1><center> Encrypt String and Decrypt Numbers program </center></h1>"
   ]
  },
  {
   "cell_type": "markdown",
   "metadata": {},
   "source": [
    "<p><center><i> ******To learn basic Python, please visit <a href=\"https://www.python.org/\"> Python Website </a>.</i></center></p>"
   ]
  },
  {
   "cell_type": "markdown",
   "metadata": {},
   "source": [
    "### Importing Modules"
   ]
  },
  {
   "cell_type": "code",
   "execution_count": 125,
   "metadata": {
    "collapsed": true
   },
   "outputs": [],
   "source": [
    "import numpy as np\n",
    "import pandas as pd\n",
    "import string"
   ]
  },
  {
   "cell_type": "markdown",
   "metadata": {},
   "source": [
    "### Storing lower and upper case letters"
   ]
  },
  {
   "cell_type": "code",
   "execution_count": 133,
   "metadata": {},
   "outputs": [
    {
     "name": "stdout",
     "output_type": "stream",
     "text": [
      "abcdefghijklmnopqrstuvwxyz\n"
     ]
    }
   ],
   "source": [
    "l = string.ascii_lowercase\n",
    "u = string.ascii_uppercase"
   ]
  },
  {
   "cell_type": "code",
   "execution_count": 298,
   "metadata": {},
   "outputs": [],
   "source": [
    "K=[' '] + list(l) + list(u) + ['.'] + [','] + ['!'] "
   ]
  },
  {
   "cell_type": "markdown",
   "metadata": {},
   "source": [
    "### Asking user to enter a string to be encrypted"
   ]
  },
  {
   "cell_type": "code",
   "execution_count": 293,
   "metadata": {},
   "outputs": [
    {
     "name": "stdout",
     "output_type": "stream",
     "text": [
      "\n",
      " Welcome to this mini program!\n",
      " Please enter a word or a sentence that you would like to encrypt : \n",
      " \n",
      " Hi. This is Karishma\n"
     ]
    }
   ],
   "source": [
    "a = input(\"\\n Welcome to this mini program!\\n \\\n",
    "Please enter a word or a sentence that you would like to encrypt : \\n \\n \\\n",
    "\")"
   ]
  },
  {
   "cell_type": "markdown",
   "metadata": {},
   "source": [
    "### Running Encrypt function"
   ]
  },
  {
   "cell_type": "code",
   "execution_count": 294,
   "metadata": {},
   "outputs": [],
   "source": [
    "def encrypt(uservalue): \n",
    "    x = list(a)\n",
    "    code = []\n",
    "    for i in range(len(x)):\n",
    "        for j in range(len(K)):\n",
    "            if x[i]==K[j]:\n",
    "                code.append(j)\n",
    "    return(code)"
   ]
  },
  {
   "cell_type": "code",
   "execution_count": 306,
   "metadata": {},
   "outputs": [
    {
     "name": "stdout",
     "output_type": "stream",
     "text": [
      "Encrypting :  [34, 9, 53, 0, 46, 8, 9, 19, 0, 9, 19, 0, 37, 1, 18, 9, 19, 8, 13, 1]\n"
     ]
    }
   ],
   "source": [
    "print(\"Encrypting : \", encrypt(a))"
   ]
  },
  {
   "cell_type": "markdown",
   "metadata": {},
   "source": [
    "### Creating Decrypt function to decrypt"
   ]
  },
  {
   "cell_type": "code",
   "execution_count": 299,
   "metadata": {},
   "outputs": [],
   "source": [
    "def decrypt(string1):\n",
    "    decode=[]\n",
    "    for i in range(len(string1)):\n",
    "        decode.append(K[string1[i]])\n",
    "    s=''.join(decode)\n",
    "    return(s)\n"
   ]
  },
  {
   "cell_type": "code",
   "execution_count": 300,
   "metadata": {},
   "outputs": [
    {
     "name": "stdout",
     "output_type": "stream",
     "text": [
      "Enter your encoded list of numbers:\n",
      "\n",
      " 46, 8, 9, 19, 0, 9, 19, 0, 37, 1, 18, 9, 19, 8, 13, 1, 53\n"
     ]
    }
   ],
   "source": [
    "Value = input('Enter your encoded list of numbers:\\n\\n ')\n",
    "Value = [int(x) for x in Value.split(',')]"
   ]
  },
  {
   "cell_type": "code",
   "execution_count": 307,
   "metadata": {},
   "outputs": [
    {
     "name": "stdout",
     "output_type": "stream",
     "text": [
      "Decrypting :  This is Karishma.\n"
     ]
    }
   ],
   "source": [
    "print(\"Decrypting : \", decrypt(Value))"
   ]
  },
  {
   "cell_type": "markdown",
   "metadata": {},
   "source": [
    "### <center> End of Program </center>"
   ]
  }
 ],
 "metadata": {
  "kernelspec": {
   "display_name": "Python 3",
   "language": "python",
   "name": "python3"
  },
  "language_info": {
   "codemirror_mode": {
    "name": "ipython",
    "version": 3
   },
   "file_extension": ".py",
   "mimetype": "text/x-python",
   "name": "python",
   "nbconvert_exporter": "python",
   "pygments_lexer": "ipython3",
   "version": "3.6.1"
  }
 },
 "nbformat": 4,
 "nbformat_minor": 2
}
